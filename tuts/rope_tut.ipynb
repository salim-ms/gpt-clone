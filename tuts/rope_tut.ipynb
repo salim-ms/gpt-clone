{
 "cells": [
  {
   "cell_type": "code",
   "execution_count": 1,
   "metadata": {},
   "outputs": [],
   "source": [
    "import torch\n",
    "import torch.nn as nn\n",
    "import torch.nn.functional as F"
   ]
  },
  {
   "cell_type": "code",
   "execution_count": 2,
   "metadata": {},
   "outputs": [
    {
     "name": "stdout",
     "output_type": "stream",
     "text": [
      "torch.Size([5000])\n"
     ]
    }
   ],
   "source": [
    "x = torch.arange(0, 10_000, 2)\n",
    "print(x.shape)"
   ]
  },
  {
   "cell_type": "code",
   "execution_count": 3,
   "metadata": {},
   "outputs": [
    {
     "data": {
      "text/plain": [
       "tensor([ 0,  2,  4,  6,  8, 10, 12, 14, 16, 18])"
      ]
     },
     "execution_count": 3,
     "metadata": {},
     "output_type": "execute_result"
    }
   ],
   "source": [
    "x[:10]"
   ]
  },
  {
   "cell_type": "code",
   "execution_count": 4,
   "metadata": {},
   "outputs": [
    {
     "name": "stdout",
     "output_type": "stream",
     "text": [
      "torch.Size([384])\n"
     ]
    }
   ],
   "source": [
    "base = 10_000\n",
    "d = 768\n",
    "theta = 1. / (base ** (torch.arange(0, d, 2).float() / d))\n",
    "print(theta.shape)"
   ]
  },
  {
   "cell_type": "code",
   "execution_count": 6,
   "metadata": {},
   "outputs": [
    {
     "name": "stdout",
     "output_type": "stream",
     "text": [
      "torch.Size([2048])\n"
     ]
    }
   ],
   "source": [
    " seq_len = 2048\n",
    " seq_idx = torch.arange(seq_len, device=x.device).float()\n",
    " print(seq_idx.shape)"
   ]
  },
  {
   "cell_type": "code",
   "execution_count": 7,
   "metadata": {},
   "outputs": [
    {
     "name": "stdout",
     "output_type": "stream",
     "text": [
      "torch.Size([2048, 384])\n"
     ]
    }
   ],
   "source": [
    "idx_theta = torch.einsum('n,d->nd', seq_idx, theta)\n",
    "print(idx_theta.shape)"
   ]
  },
  {
   "cell_type": "code",
   "execution_count": 8,
   "metadata": {},
   "outputs": [],
   "source": [
    "# basically we created a matrix here of seq_length x thetas, remember each pair of features in d, get a single theta, hence thetas are d/2\n",
    "# so what we have is that for each position, 0,1,2 ...., we have a computed thetas ready to be used."
   ]
  },
  {
   "cell_type": "code",
   "execution_count": null,
   "metadata": {},
   "outputs": [],
   "source": [
    "# now, let's concatenate the idx_theta so we can get full shape array which match our seq_length, d (m_theta_0, m_theta_1, ...., m_theta_d/2, m_theta_0, m_theta_1, ....m_theta_d/2)\n",
    "# remember our pairs of features are captured at positions i & i+d/2 so this shape makes sense.\n",
    "idx_theta_full = torch.cat([idx_theta, idx_theta])"
   ]
  }
 ],
 "metadata": {
  "kernelspec": {
   "display_name": "audio_311",
   "language": "python",
   "name": "python3"
  },
  "language_info": {
   "codemirror_mode": {
    "name": "ipython",
    "version": 3
   },
   "file_extension": ".py",
   "mimetype": "text/x-python",
   "name": "python",
   "nbconvert_exporter": "python",
   "pygments_lexer": "ipython3",
   "version": "3.11.1"
  }
 },
 "nbformat": 4,
 "nbformat_minor": 2
}
